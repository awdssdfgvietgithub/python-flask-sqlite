{
 "cells": [
  {
   "cell_type": "code",
   "execution_count": 2,
   "metadata": {},
   "outputs": [],
   "source": [
    "import csv\n",
    "import os"
   ]
  },
  {
   "cell_type": "code",
   "execution_count": 3,
   "metadata": {},
   "outputs": [
    {
     "name": "stdout",
     "output_type": "stream",
     "text": [
      "File đã được chuyển đổi thành công: models\\facebook_combined.csv\n"
     ]
    }
   ],
   "source": [
    "output_file = os.path.join(\"models\", \"facebook_combined.csv\")\n",
    "input_file = os.path.join(\"models\", \"facebook_combined.txt\")\n",
    "\n",
    "with open(input_file, 'r') as txt_file, open(output_file, 'w', newline='') as csv_file:\n",
    "    csv_writer = csv.writer(csv_file)\n",
    "    \n",
    "    csv_writer.writerow(['node1', 'node2'])\n",
    "    \n",
    "    for line in txt_file:\n",
    "        csv_writer.writerow(line.strip().split())\n",
    "\n",
    "print(f\"File đã được chuyển đổi thành công: {output_file}\")"
   ]
  }
 ],
 "metadata": {
  "kernelspec": {
   "display_name": "Python 3",
   "language": "python",
   "name": "python3"
  },
  "language_info": {
   "codemirror_mode": {
    "name": "ipython",
    "version": 3
   },
   "file_extension": ".py",
   "mimetype": "text/x-python",
   "name": "python",
   "nbconvert_exporter": "python",
   "pygments_lexer": "ipython3",
   "version": "3.12.5"
  }
 },
 "nbformat": 4,
 "nbformat_minor": 2
}
